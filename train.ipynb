{
 "cells": [
  {
   "cell_type": "code",
   "execution_count": 45,
   "metadata": {},
   "outputs": [],
   "source": [
    "import pandas as pd\n",
    "import numpy as np\n",
    "import matplotlib.pyplot as plt\n",
    "import seaborn as sns\n",
    "from scipy.sparse import csr_matrix, vstack, hstack\n",
    "\n",
    "from sklearn.utils import shuffle\n",
    "from sklearn.model_selection import train_test_split, StratifiedKFold\n",
    "from sklearn.linear_model import LogisticRegression\n",
    "from sklearn.metrics import accuracy_score, classification_report\n",
    "from sklearn.feature_extraction.text import TfidfTransformer\n",
    "from sklearn.preprocessing import normalize, MaxAbsScaler\n",
    "from sklearn.metrics.pairwise import cosine_similarity\n",
    "from sklearn.ensemble import RandomForestClassifier\n",
    "from sklearn.decomposition import TruncatedSVD\n",
    "\n",
    "from collections import Counter\n",
    "\n",
    "from sklearn.linear_model import SGDClassifier\n",
    "from sklearn.naive_bayes import MultinomialNB\n",
    "from sklearn.ensemble import VotingClassifier\n",
    "\n",
    "from imblearn.over_sampling import SMOTE, RandomOverSampler,SMOTENC\n",
    "from imblearn.under_sampling import RandomUnderSampler\n",
    "from imblearn.combine import SMOTEENN, SMOTETomek\n",
    "\n",
    "from xgboost import XGBRegressor, XGBClassifier\n",
    "\n",
    "from rank_bm25 import BM25Okapi"
   ]
  },
  {
   "cell_type": "markdown",
   "metadata": {},
   "source": [
    "## Read Data"
   ]
  },
  {
   "cell_type": "code",
   "execution_count": 46,
   "metadata": {},
   "outputs": [],
   "source": [
    "train_d1 = pd.read_json(\"domain1_train_data.json\", lines=True)\n",
    "train_d2 = pd.read_json(\"domain2_train_data.json\", lines=True)\n",
    "test = pd.read_json(\"test_data.json\", lines=True)"
   ]
  },
  {
   "cell_type": "markdown",
   "metadata": {},
   "source": [
    "## EDA"
   ]
  },
  {
   "cell_type": "code",
   "execution_count": 47,
   "metadata": {},
   "outputs": [
    {
     "data": {
      "text/html": [
       "<div>\n",
       "<style scoped>\n",
       "    .dataframe tbody tr th:only-of-type {\n",
       "        vertical-align: middle;\n",
       "    }\n",
       "\n",
       "    .dataframe tbody tr th {\n",
       "        vertical-align: top;\n",
       "    }\n",
       "\n",
       "    .dataframe thead th {\n",
       "        text-align: right;\n",
       "    }\n",
       "</style>\n",
       "<table border=\"1\" class=\"dataframe\">\n",
       "  <thead>\n",
       "    <tr style=\"text-align: right;\">\n",
       "      <th></th>\n",
       "      <th>text</th>\n",
       "      <th>label</th>\n",
       "      <th>id</th>\n",
       "    </tr>\n",
       "  </thead>\n",
       "  <tbody>\n",
       "    <tr>\n",
       "      <th>0</th>\n",
       "      <td>[6, 22, 34, 76, 501, 977, 1, 2514, 13623, 76, ...</td>\n",
       "      <td>0</td>\n",
       "      <td>0</td>\n",
       "    </tr>\n",
       "    <tr>\n",
       "      <th>1</th>\n",
       "      <td>[222, 31, 4108, 104, 132, 361, 39, 2305, 12, 9...</td>\n",
       "      <td>0</td>\n",
       "      <td>1</td>\n",
       "    </tr>\n",
       "    <tr>\n",
       "      <th>2</th>\n",
       "      <td>[736, 7194, 113, 12, 366, 2870, 123, 101, 12, ...</td>\n",
       "      <td>0</td>\n",
       "      <td>2</td>\n",
       "    </tr>\n",
       "    <tr>\n",
       "      <th>3</th>\n",
       "      <td>[48, 1, 2025, 69, 361, 533, 327, 237, 4150, 13...</td>\n",
       "      <td>0</td>\n",
       "      <td>3</td>\n",
       "    </tr>\n",
       "    <tr>\n",
       "      <th>4</th>\n",
       "      <td>[2973, 66, 1, 1493, 260, 2740, 50, 1027, 50, 1...</td>\n",
       "      <td>0</td>\n",
       "      <td>4</td>\n",
       "    </tr>\n",
       "  </tbody>\n",
       "</table>\n",
       "</div>"
      ],
      "text/plain": [
       "                                                text  label  id\n",
       "0  [6, 22, 34, 76, 501, 977, 1, 2514, 13623, 76, ...      0   0\n",
       "1  [222, 31, 4108, 104, 132, 361, 39, 2305, 12, 9...      0   1\n",
       "2  [736, 7194, 113, 12, 366, 2870, 123, 101, 12, ...      0   2\n",
       "3  [48, 1, 2025, 69, 361, 533, 327, 237, 4150, 13...      0   3\n",
       "4  [2973, 66, 1, 1493, 260, 2740, 50, 1027, 50, 1...      0   4"
      ]
     },
     "execution_count": 47,
     "metadata": {},
     "output_type": "execute_result"
    }
   ],
   "source": [
    "train_d1.head()"
   ]
  },
  {
   "cell_type": "code",
   "execution_count": 48,
   "metadata": {},
   "outputs": [],
   "source": [
    "# If 'text' contains lists, we can analyze their length\n",
    "train_d1['text_length'] = train_d1['text'].apply(len)\n",
    "train_d2['text_length'] = train_d2['text'].apply(len)"
   ]
  },
  {
   "cell_type": "code",
   "execution_count": 49,
   "metadata": {},
   "outputs": [
    {
     "data": {
      "text/html": [
       "<div>\n",
       "<style scoped>\n",
       "    .dataframe tbody tr th:only-of-type {\n",
       "        vertical-align: middle;\n",
       "    }\n",
       "\n",
       "    .dataframe tbody tr th {\n",
       "        vertical-align: top;\n",
       "    }\n",
       "\n",
       "    .dataframe thead th {\n",
       "        text-align: right;\n",
       "    }\n",
       "</style>\n",
       "<table border=\"1\" class=\"dataframe\">\n",
       "  <thead>\n",
       "    <tr style=\"text-align: right;\">\n",
       "      <th></th>\n",
       "      <th>count</th>\n",
       "      <th>mean</th>\n",
       "      <th>std</th>\n",
       "      <th>min</th>\n",
       "      <th>25%</th>\n",
       "      <th>50%</th>\n",
       "      <th>75%</th>\n",
       "      <th>max</th>\n",
       "    </tr>\n",
       "    <tr>\n",
       "      <th>label</th>\n",
       "      <th></th>\n",
       "      <th></th>\n",
       "      <th></th>\n",
       "      <th></th>\n",
       "      <th></th>\n",
       "      <th></th>\n",
       "      <th></th>\n",
       "      <th></th>\n",
       "    </tr>\n",
       "  </thead>\n",
       "  <tbody>\n",
       "    <tr>\n",
       "      <th>0</th>\n",
       "      <td>250.0</td>\n",
       "      <td>70.564000</td>\n",
       "      <td>3.622484</td>\n",
       "      <td>55.0</td>\n",
       "      <td>69.0</td>\n",
       "      <td>71.0</td>\n",
       "      <td>73.0</td>\n",
       "      <td>77.0</td>\n",
       "    </tr>\n",
       "    <tr>\n",
       "      <th>1</th>\n",
       "      <td>4750.0</td>\n",
       "      <td>80.587158</td>\n",
       "      <td>1.224738</td>\n",
       "      <td>70.0</td>\n",
       "      <td>80.0</td>\n",
       "      <td>80.0</td>\n",
       "      <td>81.0</td>\n",
       "      <td>91.0</td>\n",
       "    </tr>\n",
       "  </tbody>\n",
       "</table>\n",
       "</div>"
      ],
      "text/plain": [
       "        count       mean       std   min   25%   50%   75%   max\n",
       "label                                                           \n",
       "0       250.0  70.564000  3.622484  55.0  69.0  71.0  73.0  77.0\n",
       "1      4750.0  80.587158  1.224738  70.0  80.0  80.0  81.0  91.0"
      ]
     },
     "execution_count": 49,
     "metadata": {},
     "output_type": "execute_result"
    }
   ],
   "source": [
    "# Statistical summary of text lengths by label\n",
    "train_d1.groupby('label')['text_length'].describe()\n",
    "train_d2.groupby('label')['text_length'].describe()"
   ]
  },
  {
   "cell_type": "code",
   "execution_count": 50,
   "metadata": {},
   "outputs": [
    {
     "name": "stdout",
     "output_type": "stream",
     "text": [
      "Correlation between text length and label d1: 0.16134940245433266\n",
      "Correlation between text length and label d2: 0.8346408259478301\n"
     ]
    }
   ],
   "source": [
    "# Correlation between text length and label\n",
    "print(\"Correlation between text length and label d1:\", \n",
    "      train_d1['text_length'].corr(train_d1['label']))\n",
    "\n",
    "# Correlation between text length and label\n",
    "print(\"Correlation between text length and label d2:\", \n",
    "      train_d2['text_length'].corr(train_d2['label']))"
   ]
  },
  {
   "cell_type": "code",
   "execution_count": 51,
   "metadata": {},
   "outputs": [
    {
     "name": "stdout",
     "output_type": "stream",
     "text": [
      "Most common tokens in d1: [(11, 4639), (1, 4141), (12, 2664), (4, 2560), (69, 1861), (22, 1759), (39, 1602), (101, 1519), (139, 1182), (13, 1055), (48, 985), (151, 969), (104, 891), (76, 810), (66, 713), (80, 684), (50, 673), (36, 639), (64, 626), (6, 622)]\n",
      "Most common tokens in d2: [(1, 20613), (12, 13546), (4, 13084), (11, 12304), (39, 11195), (101, 9976), (69, 9928), (13, 7633), (139, 6352), (76, 5731), (151, 5565), (80, 4311), (36, 4245), (48, 3572), (22, 3459), (222, 3201), (64, 3086), (50, 2690), (238, 2508), (55, 2391)]\n"
     ]
    }
   ],
   "source": [
    "# Examining the most common tokens\n",
    "from collections import Counter\n",
    "all_tokens = [token for text in train_d1['text'] for token in text]\n",
    "token_counts = Counter(all_tokens)\n",
    "most_common_tokens = token_counts.most_common(20)\n",
    "print(\"Most common tokens in d1:\", most_common_tokens) # (indice, frequency)\n",
    "\n",
    "all_tokens = [token for text in train_d2['text'] for token in text]\n",
    "token_counts = Counter(all_tokens)\n",
    "most_common_tokens = token_counts.most_common(20)\n",
    "print(\"Most common tokens in d2:\", most_common_tokens) # (indice, frequency)"
   ]
  },
  {
   "cell_type": "code",
   "execution_count": 52,
   "metadata": {},
   "outputs": [],
   "source": [
    "# Create a new feature for analysis\n",
    "train_d1['unique_tokens'] = train_d1['text'].apply(lambda x: len(set(x)))\n",
    "train_d1['token_diversity'] = train_d1['unique_tokens'] / train_d1['text_length']\n",
    "\n",
    "train_d2['unique_tokens'] = train_d2['text'].apply(lambda x: len(set(x)))\n",
    "train_d2['token_diversity'] = train_d2['unique_tokens'] / train_d2['text_length']"
   ]
  },
  {
   "cell_type": "code",
   "execution_count": 53,
   "metadata": {},
   "outputs": [
    {
     "name": "stdout",
     "output_type": "stream",
     "text": [
      "Correlation between token diversity and label d1: -0.1041082476069229\n",
      "Correlation between token diversity and label d2: -0.16382331092609162\n"
     ]
    }
   ],
   "source": [
    "# Correlation between text length and label\n",
    "print(\"Correlation between token diversity and label d1:\", \n",
    "      train_d1['token_diversity'].corr(train_d1['label']))\n",
    "\n",
    "# Correlation between text length and label\n",
    "print(\"Correlation between token diversity and label d2:\", \n",
    "      train_d2['token_diversity'].corr(train_d2['label']))"
   ]
  },
  {
   "cell_type": "code",
   "execution_count": 54,
   "metadata": {},
   "outputs": [
    {
     "name": "stdout",
     "output_type": "stream",
     "text": [
      "Correlation between token diversity and label d1: -0.1041082476069229\n",
      "Correlation between token diversity and label d2: -0.16382331092609162\n"
     ]
    }
   ],
   "source": [
    "# Correlation between text length and label\n",
    "print(\"Correlation between token diversity and label d1:\", \n",
    "      train_d1['token_diversity'].corr(train_d1['label']))\n",
    "\n",
    "# Correlation between text length and label\n",
    "print(\"Correlation between token diversity and label d2:\", \n",
    "      train_d2['token_diversity'].corr(train_d2['label']))"
   ]
  },
  {
   "cell_type": "code",
   "execution_count": 55,
   "metadata": {},
   "outputs": [
    {
     "data": {
      "image/png": "[encoded data removed]",
      "text/plain": [
       "<Figure size 1000x600 with 1 Axes>"
      ]
     },
     "metadata": {},
     "output_type": "display_data"
    }
   ],
   "source": [
    "# Plot relationship between features\n",
    "plt.figure(figsize=(10, 6))\n",
    "sns.scatterplot(x='text_length', y='token_diversity', hue='label', data=train_d1)\n",
    "plt.title('Token Diversity vs Text Length')\n",
    "plt.show()"
   ]
  },
  {
   "cell_type": "code",
   "execution_count": 56,
   "metadata": {},
   "outputs": [],
   "source": [
    "train_d1[\"domain\"] = 0\n",
    "train_d2[\"domain\"] = 1"
   ]
  },
  {
   "cell_type": "code",
   "execution_count": 57,
   "metadata": {},
   "outputs": [
    {
     "data": {
      "text/html": [
       "<div>\n",
       "<style scoped>\n",
       "    .dataframe tbody tr th:only-of-type {\n",
       "        vertical-align: middle;\n",
       "    }\n",
       "\n",
       "    .dataframe tbody tr th {\n",
       "        vertical-align: top;\n",
       "    }\n",
       "\n",
       "    .dataframe thead th {\n",
       "        text-align: right;\n",
       "    }\n",
       "</style>\n",
       "<table border=\"1\" class=\"dataframe\">\n",
       "  <thead>\n",
       "    <tr style=\"text-align: right;\">\n",
       "      <th></th>\n",
       "      <th>text</th>\n",
       "      <th>label</th>\n",
       "      <th>id</th>\n",
       "      <th>text_length</th>\n",
       "      <th>unique_tokens</th>\n",
       "      <th>token_diversity</th>\n",
       "      <th>domain</th>\n",
       "    </tr>\n",
       "  </thead>\n",
       "  <tbody>\n",
       "    <tr>\n",
       "      <th>0</th>\n",
       "      <td>[6, 22, 34, 76, 501, 977, 1, 2514, 13623, 76, ...</td>\n",
       "      <td>0</td>\n",
       "      <td>0</td>\n",
       "      <td>81</td>\n",
       "      <td>51</td>\n",
       "      <td>0.629630</td>\n",
       "      <td>0</td>\n",
       "    </tr>\n",
       "    <tr>\n",
       "      <th>1</th>\n",
       "      <td>[222, 31, 4108, 104, 132, 361, 39, 2305, 12, 9...</td>\n",
       "      <td>0</td>\n",
       "      <td>1</td>\n",
       "      <td>80</td>\n",
       "      <td>56</td>\n",
       "      <td>0.700000</td>\n",
       "      <td>0</td>\n",
       "    </tr>\n",
       "    <tr>\n",
       "      <th>2</th>\n",
       "      <td>[736, 7194, 113, 12, 366, 2870, 123, 101, 12, ...</td>\n",
       "      <td>0</td>\n",
       "      <td>2</td>\n",
       "      <td>84</td>\n",
       "      <td>62</td>\n",
       "      <td>0.738095</td>\n",
       "      <td>0</td>\n",
       "    </tr>\n",
       "    <tr>\n",
       "      <th>3</th>\n",
       "      <td>[48, 1, 2025, 69, 361, 533, 327, 237, 4150, 13...</td>\n",
       "      <td>0</td>\n",
       "      <td>3</td>\n",
       "      <td>83</td>\n",
       "      <td>51</td>\n",
       "      <td>0.614458</td>\n",
       "      <td>0</td>\n",
       "    </tr>\n",
       "    <tr>\n",
       "      <th>4</th>\n",
       "      <td>[2973, 66, 1, 1493, 260, 2740, 50, 1027, 50, 1...</td>\n",
       "      <td>0</td>\n",
       "      <td>4</td>\n",
       "      <td>80</td>\n",
       "      <td>56</td>\n",
       "      <td>0.700000</td>\n",
       "      <td>0</td>\n",
       "    </tr>\n",
       "  </tbody>\n",
       "</table>\n",
       "</div>"
      ],
      "text/plain": [
       "                                                text  label  id  text_length  \\\n",
       "0  [6, 22, 34, 76, 501, 977, 1, 2514, 13623, 76, ...      0   0           81   \n",
       "1  [222, 31, 4108, 104, 132, 361, 39, 2305, 12, 9...      0   1           80   \n",
       "2  [736, 7194, 113, 12, 366, 2870, 123, 101, 12, ...      0   2           84   \n",
       "3  [48, 1, 2025, 69, 361, 533, 327, 237, 4150, 13...      0   3           83   \n",
       "4  [2973, 66, 1, 1493, 260, 2740, 50, 1027, 50, 1...      0   4           80   \n",
       "\n",
       "   unique_tokens  token_diversity  domain  \n",
       "0             51         0.629630       0  \n",
       "1             56         0.700000       0  \n",
       "2             62         0.738095       0  \n",
       "3             51         0.614458       0  \n",
       "4             56         0.700000       0  "
      ]
     },
     "execution_count": 57,
     "metadata": {},
     "output_type": "execute_result"
    }
   ],
   "source": [
    "train_d1.head()"
   ]
  },
  {
   "cell_type": "code",
   "execution_count": 58,
   "metadata": {},
   "outputs": [
    {
     "data": {
      "text/html": [
       "<div>\n",
       "<style scoped>\n",
       "    .dataframe tbody tr th:only-of-type {\n",
       "        vertical-align: middle;\n",
       "    }\n",
       "\n",
       "    .dataframe tbody tr th {\n",
       "        vertical-align: top;\n",
       "    }\n",
       "\n",
       "    .dataframe thead th {\n",
       "        text-align: right;\n",
       "    }\n",
       "</style>\n",
       "<table border=\"1\" class=\"dataframe\">\n",
       "  <thead>\n",
       "    <tr style=\"text-align: right;\">\n",
       "      <th></th>\n",
       "      <th>text</th>\n",
       "      <th>label</th>\n",
       "      <th>id</th>\n",
       "      <th>text_length</th>\n",
       "      <th>unique_tokens</th>\n",
       "      <th>token_diversity</th>\n",
       "      <th>domain</th>\n",
       "    </tr>\n",
       "  </thead>\n",
       "  <tbody>\n",
       "    <tr>\n",
       "      <th>0</th>\n",
       "      <td>[22, 6065, 76, 119, 13027, 575, 219, 22, 2435,...</td>\n",
       "      <td>0</td>\n",
       "      <td>0</td>\n",
       "      <td>71</td>\n",
       "      <td>48</td>\n",
       "      <td>0.676056</td>\n",
       "      <td>1</td>\n",
       "    </tr>\n",
       "    <tr>\n",
       "      <th>1</th>\n",
       "      <td>[1275, 1509, 12, 6113, 6287, 327, 411, 1139, 2...</td>\n",
       "      <td>0</td>\n",
       "      <td>1</td>\n",
       "      <td>73</td>\n",
       "      <td>59</td>\n",
       "      <td>0.808219</td>\n",
       "      <td>1</td>\n",
       "    </tr>\n",
       "    <tr>\n",
       "      <th>2</th>\n",
       "      <td>[575, 2962, 529, 4624, 39, 279, 1012, 277, 76,...</td>\n",
       "      <td>0</td>\n",
       "      <td>2</td>\n",
       "      <td>73</td>\n",
       "      <td>51</td>\n",
       "      <td>0.698630</td>\n",
       "      <td>1</td>\n",
       "    </tr>\n",
       "    <tr>\n",
       "      <th>3</th>\n",
       "      <td>[12, 6113, 2428, 69, 375, 1025, 2605, 76, 101,...</td>\n",
       "      <td>0</td>\n",
       "      <td>3</td>\n",
       "      <td>72</td>\n",
       "      <td>53</td>\n",
       "      <td>0.736111</td>\n",
       "      <td>1</td>\n",
       "    </tr>\n",
       "    <tr>\n",
       "      <th>4</th>\n",
       "      <td>[529, 76, 1509, 861, 1, 645, 1, 5013, 237, 3, ...</td>\n",
       "      <td>0</td>\n",
       "      <td>4</td>\n",
       "      <td>70</td>\n",
       "      <td>57</td>\n",
       "      <td>0.814286</td>\n",
       "      <td>1</td>\n",
       "    </tr>\n",
       "  </tbody>\n",
       "</table>\n",
       "</div>"
      ],
      "text/plain": [
       "                                                text  label  id  text_length  \\\n",
       "0  [22, 6065, 76, 119, 13027, 575, 219, 22, 2435,...      0   0           71   \n",
       "1  [1275, 1509, 12, 6113, 6287, 327, 411, 1139, 2...      0   1           73   \n",
       "2  [575, 2962, 529, 4624, 39, 279, 1012, 277, 76,...      0   2           73   \n",
       "3  [12, 6113, 2428, 69, 375, 1025, 2605, 76, 101,...      0   3           72   \n",
       "4  [529, 76, 1509, 861, 1, 645, 1, 5013, 237, 3, ...      0   4           70   \n",
       "\n",
       "   unique_tokens  token_diversity  domain  \n",
       "0             48         0.676056       1  \n",
       "1             59         0.808219       1  \n",
       "2             51         0.698630       1  \n",
       "3             53         0.736111       1  \n",
       "4             57         0.814286       1  "
      ]
     },
     "execution_count": 58,
     "metadata": {},
     "output_type": "execute_result"
    }
   ],
   "source": [
    "train_d2.head()"
   ]
  },
  {
   "cell_type": "markdown",
   "metadata": {},
   "source": [
    "### SMOTE (Over Sampling)"
   ]
  },
  {
   "cell_type": "code",
   "execution_count": 59,
   "metadata": {},
   "outputs": [],
   "source": [
    "# # This creates synthetic samples for the minority class in domain2\n",
    "# ros = RandomOverSampler(random_state=42)\n",
    "# # sampling_strategy='auto' will balance classes to have equal numbers \n",
    "# X_d2_resampled, y_d2_resampled = ros.fit_resample(X_d2_bow, y_d2)"
   ]
  },
  {
   "cell_type": "code",
   "execution_count": 60,
   "metadata": {},
   "outputs": [],
   "source": [
    "# # Combine domain1 (original) with domain2 (resampled) data\n",
    "# X_resampled = vstack([X_d1_bow, X_d2_resampled])\n",
    "# y_resampled = pd.concat([y_d1, pd.Series(y_d2_resampled)])"
   ]
  },
  {
   "cell_type": "markdown",
   "metadata": {},
   "source": [
    "## Training"
   ]
  },
  {
   "cell_type": "code",
   "execution_count": 61,
   "metadata": {},
   "outputs": [],
   "source": [
    "merge = pd.concat([train_d1, train_d2], ignore_index=True)\n",
    "merge = shuffle(merge, random_state=42)"
   ]
  },
  {
   "cell_type": "code",
   "execution_count": 62,
   "metadata": {},
   "outputs": [],
   "source": [
    "X_d2 = train_d2[\"text\"]\n",
    "y_d2 = train_d2[\"label\"]\n",
    "\n",
    "X_d1 = train_d1[\"text\"]\n",
    "y_d1 = train_d1[\"label\"]\n",
    "\n",
    "vocab_size = 17119 + 1"
   ]
  },
  {
   "cell_type": "code",
   "execution_count": 63,
   "metadata": {},
   "outputs": [],
   "source": [
    "# create a BoW from token indices\n",
    "def tokens_to_bow(texts, vocab_size):\n",
    "    rows, cols, counts = [], [], []\n",
    "    for row_idx, text in enumerate(texts):\n",
    "        token_counts = {}\n",
    "        for token in text:\n",
    "            token_counts[token] = token_counts.get(token, 0) + 1\n",
    "        for token, count in token_counts.items():\n",
    "            rows.append(row_idx)\n",
    "            cols.append(token)\n",
    "            counts.append(count)\n",
    "    return csr_matrix((counts, (rows, cols)), shape=(len(texts), vocab_size))"
   ]
  },
  {
   "cell_type": "code",
   "execution_count": 64,
   "metadata": {},
   "outputs": [],
   "source": [
    "def tokens_to_ngram_bow(texts, vocab_size, n_list=(1,2,3), min_freq=3):\n",
    "    rows, cols, counts = [], [], []\n",
    "    next_id  = vocab_size\n",
    "    ngram_id = {}      # {tuple: id}\n",
    "    freq_cnt = Counter()\n",
    "\n",
    "    # 1st pass: count n‑gram freq\n",
    "    for tokens in texts:\n",
    "        for n in n_list[1:]:                 # skip unigram\n",
    "            for i in range(len(tokens)-n+1):\n",
    "                freq_cnt[tuple(tokens[i:i+n])] += 1\n",
    "\n",
    "    # 2nd pass: build sparse rows\n",
    "    for r, tokens in enumerate(texts):\n",
    "        token_counts = Counter(tokens)       # unigram\n",
    "        # add n‑gram\n",
    "        for n in n_list[1:]:\n",
    "            for i in range(len(tokens)-n+1):\n",
    "                t = tuple(tokens[i:i+n])\n",
    "                if freq_cnt[t] >= min_freq:\n",
    "                    if t not in ngram_id:\n",
    "                        ngram_id[t] = next_id\n",
    "                        next_id += 1\n",
    "                    token_counts[ngram_id[t]] += 1\n",
    "        for c, cnt in token_counts.items():\n",
    "            rows.append(r); cols.append(c); counts.append(cnt)\n",
    "\n",
    "    X = csr_matrix((counts,(rows,cols)), shape=(len(texts), next_id))\n",
    "    return X"
   ]
  },
  {
   "cell_type": "code",
   "execution_count": 65,
   "metadata": {},
   "outputs": [],
   "source": [
    "# 只用 train 数据，避免信息泄漏 (data leakage)\n",
    "token_freq = Counter()\n",
    "for tokens in pd.concat([train_d1, train_d2], ignore_index=True)[\"text\"]:\n",
    "    token_freq.update(tokens)\n",
    "RARE_TH = 5        # 出现次数 < 5 视为“罕见”(rare)\n",
    "\n",
    "def build_numeric_features(text_series, token_freq, rare_th=RARE_TH):\n",
    "    \"\"\"\n",
    "    Return: ndarray shape (n_samples, n_features)\n",
    "            columns = [seq_len, mean_token_id, rare_ratio, token_diversity]\n",
    "    \"\"\"\n",
    "    # 序列长度 (sequence length)\n",
    "    seq_len = text_series.apply(len).values\n",
    "    \n",
    "    # 平均 token 索引 (mean token id)\n",
    "    mean_token_id = text_series.apply(lambda ts: np.mean(ts) if len(ts) > 0 else 0).values\n",
    "    \n",
    "    # 罕见词占比 (rare_token_ratio)\n",
    "    rare_ratio = text_series.apply(\n",
    "        lambda ts: sum(token_freq[t] < rare_th for t in ts) / len(ts) if len(ts) > 0 else 0\n",
    "    ).values\n",
    "\n",
    "    # # num unique tokens in sentences\n",
    "    # token_uniq = text_series.apply(lambda x: len(set(x))).values\n",
    "    \n",
    "    # 词多样性 (token_diversity = unique / length)\n",
    "    token_div = text_series.apply(\n",
    "        lambda ts: len(set(ts)) / len(ts) if len(ts) > 0 else 0\n",
    "    ).values\n",
    "    \n",
    "    feats = np.vstack([seq_len, token_div]).T\n",
    "    return feats.astype(np.float32)"
   ]
  },
  {
   "cell_type": "markdown",
   "metadata": {},
   "source": [
    "### Prepare the data"
   ]
  },
  {
   "cell_type": "code",
   "execution_count": 66,
   "metadata": {},
   "outputs": [],
   "source": [
    "# 0. 拼接所有文本\n",
    "all_texts = pd.concat([merge[\"text\"], test[\"text\"]], ignore_index=True)\n",
    "\n",
    "# 1. 一次性生成 n‑gram BoW\n",
    "X_all = tokens_to_ngram_bow(all_texts, vocab_size, n_list=(1,2,3), min_freq=3)\n",
    "\n",
    "# 2. 切分回 train / test\n",
    "X_bow   = X_all[:len(merge)]\n",
    "test_bow = X_all[len(merge):]\n",
    "\n",
    "# === 3.2 数值特征部分 ===\n",
    "num_feats_train = build_numeric_features(merge[\"text\"], token_freq)   # ndarray\n",
    "num_feats_test  = build_numeric_features(test[\"text\"],  token_freq)\n",
    "\n",
    "scaler = MaxAbsScaler()\n",
    "num_feats_train = scaler.fit_transform(num_feats_train)   # 返回 sparse matrix\n",
    "num_feats_test  = scaler.transform(num_feats_test)\n",
    "\n",
    "# === 3.3 拼接 (concatenate) ===\n",
    "X_train_final = hstack([X_bow, num_feats_train]).tocsr()  # (n_samples, vocab_size + 4) # 转换为 csr_matrix\n",
    "X_test_final  = hstack([test_bow, num_feats_test]).tocsr()  # 转换为 csr_matrix\n",
    "\n",
    "y = merge[\"label\"]"
   ]
  },
  {
   "cell_type": "markdown",
   "metadata": {},
   "source": [
    "### Merge + Resampling + Ensemble + OOF"
   ]
  },
  {
   "cell_type": "code",
   "execution_count": 68,
   "metadata": {},
   "outputs": [],
   "source": [
    "def compute_idf(bow_matrix, vocab_size):\n",
    "    \"\"\"\n",
    "    Convert a BoW matrix (raw counts) to TF-IDF vectors.\n",
    "    \n",
    "    Args:\n",
    "        bow_matrix (csr_matrix): Sparse BoW matrix of shape (n_docs, vocab_size).\n",
    "        vocab_size (int): Size of the vocabulary.\n",
    "        \n",
    "    Returns:\n",
    "        csr_matrix: TF-IDF matrix with L2-normalized rows.\n",
    "    \"\"\"\n",
    "    # Compute document frequency (DF) for each term\n",
    "    bow_binary = bow_matrix.astype(bool).astype(int)  # Convert to binary (presence/absence)\n",
    "    df = bow_binary.sum(axis=0)                       # Sum over documents (shape: [1, vocab_size])\n",
    "    df = np.asarray(df).flatten()                     # Convert to 1D array\n",
    "    \n",
    "    # Compute IDF values with smoothing\n",
    "    N = bow_matrix.shape[0]  # Total number of documents\n",
    "    idf = np.log((N + 1) / (df + 1)) + 1\n",
    "    \n",
    "    return idf\n",
    "\n",
    "def compute_tfidf(bow_matrix, vocab_size, idf):\n",
    "    # Scale BoW columns by IDF to get TF-IDF\n",
    "    tfidf = bow_matrix.multiply(idf)  # Element-wise multiplication (term-wise scaling)\n",
    "    \n",
    "    # L2-normalize rows (documents)\n",
    "    tfidf = normalize(tfidf, norm='l2', axis=1)\n",
    "    \n",
    "    return tfidf"
   ]
  },
  {
   "cell_type": "code",
   "execution_count": 69,
   "metadata": {},
   "outputs": [],
   "source": [
    "# X_bow = tokens_to_bow(merge[\"text\"], vocab_size)\n",
    "# test_bow = tokens_to_bow(test[\"text\"], vocab_size)\n",
    "\n",
    "# # Convert to TF-IDF\n",
    "# idf = compute_idf(X_bow, vocab_size)\n",
    "# X_tfidf = compute_tfidf(X_bow, vocab_size, idf)\n",
    "# test_tfidf = compute_tfidf(test_bow, vocab_size, idf)\n",
    "\n",
    "# y = merge[\"label\"]\n",
    "# domains = merge[\"domain\"]"
   ]
  },
  {
   "cell_type": "code",
   "execution_count": 70,
   "metadata": {},
   "outputs": [],
   "source": [
    "def predict_by_similarity(X_test, X_train, y_train, k=3):\n",
    "    # Calculate cosine similarity between each test and train instance\n",
    "    # This will give a matrix of shape (n_test, n_train)\n",
    "    similarity_matrix = cosine_similarity(X_test, X_train)\n",
    "    \n",
    "    # For each test instance, find the indices of the k most similar training instances\n",
    "    # argsort sorts in ascending order, so we take the last k elements\n",
    "    top_k_indices = np.argsort(similarity_matrix, axis=1)[:, -k:]\n",
    "    \n",
    "    mean_predictions = np.array([\n",
    "        np.mean(y_train.iloc[indices]) for indices in top_k_indices\n",
    "    ])\n",
    "    \n",
    "    return mean_predictions"
   ]
  },
  {
   "cell_type": "code",
   "execution_count": 71,
   "metadata": {},
   "outputs": [],
   "source": [
    "def predict_by_bm25_simple(X_test, X_train, y_train, k=3):\n",
    "    # Convert sparse matrices to lists of indices where values are non-zero\n",
    "    train_docs = [X_train[i].nonzero()[1] for i in range(X_train.shape[0])]\n",
    "    test_docs = [X_test[i].nonzero()[1] for i in range(X_test.shape[0])]\n",
    "    \n",
    "    # Create BM25 object\n",
    "    bm25 = BM25Okapi(train_docs)\n",
    "    \n",
    "    # For each test document, get BM25 scores for all training documents\n",
    "    top_k_indices = []\n",
    "    for test_doc in test_docs:\n",
    "        scores = bm25.get_scores(test_doc)\n",
    "        top_indices = np.argsort(scores)[-k:]\n",
    "        top_k_indices.append(top_indices)\n",
    "    \n",
    "    mean_predictions = np.array([\n",
    "        np.mean(y_train.iloc[indices]) for indices in top_k_indices\n",
    "    ])\n",
    "    \n",
    "    return mean_predictions"
   ]
  },
  {
   "cell_type": "code",
   "execution_count": null,
   "metadata": {},
   "outputs": [],
   "source": [
    "# def tta(test_tokens, model, token_freq_map=None, n_augmentations=10):\n",
    "#     \"\"\"More robust TTA with multiple augmentation strategies\"\"\"\n",
    "#     all_preds = []\n",
    "    \n",
    "#     # Original prediction\n",
    "#     original_bow = tokens_to_ngram_bow([test_tokens], vocab_size, n_list=(1,2,3), min_freq=3)\n",
    "#     original_pred = model.predict_proba(original_bow)[0]\n",
    "#     all_preds.append(original_pred)\n",
    "    \n",
    "#     # Weight original prediction more heavily (optional)\n",
    "#     all_preds.append(original_pred)  # Add twice\n",
    "    \n",
    "#     augmentation_methods = [\n",
    "#         # Mild deletion - remove ~5% of tokens\n",
    "#         lambda t: token_deletion(t.copy(), p=0.05),\n",
    "        \n",
    "#         # Very mild swapping - swap just a couple tokens\n",
    "#         lambda t: token_swap(t.copy(), n_swaps=min(2, len(t)//10)),\n",
    "        \n",
    "#         # Substitution with similar tokens\n",
    "#         lambda t: token_substitution(t.copy(), token_freq_map, p=0.05) if token_freq_map else t.copy(),\n",
    "        \n",
    "#         # Combination: mild deletion + swap\n",
    "#         lambda t: token_swap(token_deletion(t.copy(), p=0.03), n_swaps=1)\n",
    "#     ]\n",
    "    \n",
    "#     # Generate augmentations\n",
    "#     for _ in range(n_augmentations):\n",
    "#         # Select random augmentation method\n",
    "#         method = random.choice(augmentation_methods)\n",
    "#         augmented = method(test_tokens)\n",
    "        \n",
    "#         # Ensure augmented sample isn't too different (optional, may need customization)\n",
    "#         if len(set(augmented) & set(test_tokens)) / len(set(test_tokens)) < 0.7:\n",
    "#             continue  # Skip if too different\n",
    "            \n",
    "#         # Convert to BOW and predict\n",
    "#         augmented_bow = tokens_to_ngram_bow([augmented], vocab_size, n_list=(1,2,3), min_freq=3)\n",
    "#         aug_pred = model.predict_proba(augmented_bow)[0]\n",
    "#         all_preds.append(aug_pred)\n",
    "    \n",
    "#     # Average predictions\n",
    "#     avg_prediction = np.mean(all_preds, axis=0)\n",
    "#     return avg_prediction"
   ]
  },
  {
   "cell_type": "code",
   "execution_count": null,
   "metadata": {},
   "outputs": [
    {
     "name": "stderr",
     "output_type": "stream",
     "text": [
      "/opt/anaconda3/envs/sml/lib/python3.9/site-packages/sklearn/utils/deprecation.py:151: FutureWarning: 'force_all_finite' was renamed to 'ensure_all_finite' in 1.6 and will be removed in 1.8.\n",
      "  warnings.warn(\n",
      "/opt/anaconda3/envs/sml/lib/python3.9/site-packages/sklearn/base.py:484: FutureWarning: `BaseEstimator._check_n_features` is deprecated in 1.6 and will be removed in 1.7. Use `sklearn.utils.validation._check_n_features` instead.\n",
      "  warnings.warn(\n",
      "/opt/anaconda3/envs/sml/lib/python3.9/site-packages/sklearn/base.py:493: FutureWarning: `BaseEstimator._check_feature_names` is deprecated in 1.6 and will be removed in 1.7. Use `sklearn.utils.validation._check_feature_names` instead.\n",
      "  warnings.warn(\n",
      "/opt/anaconda3/envs/sml/lib/python3.9/site-packages/sklearn/utils/deprecation.py:151: FutureWarning: 'force_all_finite' was renamed to 'ensure_all_finite' in 1.6 and will be removed in 1.8.\n",
      "  warnings.warn(\n",
      "/opt/anaconda3/envs/sml/lib/python3.9/site-packages/sklearn/base.py:484: FutureWarning: `BaseEstimator._check_n_features` is deprecated in 1.6 and will be removed in 1.7. Use `sklearn.utils.validation._check_n_features` instead.\n",
      "  warnings.warn(\n",
      "/opt/anaconda3/envs/sml/lib/python3.9/site-packages/sklearn/base.py:493: FutureWarning: `BaseEstimator._check_feature_names` is deprecated in 1.6 and will be removed in 1.7. Use `sklearn.utils.validation._check_feature_names` instead.\n",
      "  warnings.warn(\n",
      "/opt/anaconda3/envs/sml/lib/python3.9/site-packages/sklearn/utils/deprecation.py:151: FutureWarning: 'force_all_finite' was renamed to 'ensure_all_finite' in 1.6 and will be removed in 1.8.\n",
      "  warnings.warn(\n",
      "/opt/anaconda3/envs/sml/lib/python3.9/site-packages/sklearn/base.py:484: FutureWarning: `BaseEstimator._check_n_features` is deprecated in 1.6 and will be removed in 1.7. Use `sklearn.utils.validation._check_n_features` instead.\n",
      "  warnings.warn(\n",
      "/opt/anaconda3/envs/sml/lib/python3.9/site-packages/sklearn/base.py:493: FutureWarning: `BaseEstimator._check_feature_names` is deprecated in 1.6 and will be removed in 1.7. Use `sklearn.utils.validation._check_feature_names` instead.\n",
      "  warnings.warn(\n",
      "/opt/anaconda3/envs/sml/lib/python3.9/site-packages/sklearn/utils/deprecation.py:151: FutureWarning: 'force_all_finite' was renamed to 'ensure_all_finite' in 1.6 and will be removed in 1.8.\n",
      "  warnings.warn(\n",
      "/opt/anaconda3/envs/sml/lib/python3.9/site-packages/sklearn/base.py:484: FutureWarning: `BaseEstimator._check_n_features` is deprecated in 1.6 and will be removed in 1.7. Use `sklearn.utils.validation._check_n_features` instead.\n",
      "  warnings.warn(\n",
      "/opt/anaconda3/envs/sml/lib/python3.9/site-packages/sklearn/base.py:493: FutureWarning: `BaseEstimator._check_feature_names` is deprecated in 1.6 and will be removed in 1.7. Use `sklearn.utils.validation._check_feature_names` instead.\n",
      "  warnings.warn(\n",
      "/opt/anaconda3/envs/sml/lib/python3.9/site-packages/sklearn/utils/deprecation.py:151: FutureWarning: 'force_all_finite' was renamed to 'ensure_all_finite' in 1.6 and will be removed in 1.8.\n",
      "  warnings.warn(\n",
      "/opt/anaconda3/envs/sml/lib/python3.9/site-packages/sklearn/base.py:484: FutureWarning: `BaseEstimator._check_n_features` is deprecated in 1.6 and will be removed in 1.7. Use `sklearn.utils.validation._check_n_features` instead.\n",
      "  warnings.warn(\n",
      "/opt/anaconda3/envs/sml/lib/python3.9/site-packages/sklearn/base.py:493: FutureWarning: `BaseEstimator._check_feature_names` is deprecated in 1.6 and will be removed in 1.7. Use `sklearn.utils.validation._check_feature_names` instead.\n",
      "  warnings.warn(\n",
      "/opt/anaconda3/envs/sml/lib/python3.9/site-packages/sklearn/utils/deprecation.py:151: FutureWarning: 'force_all_finite' was renamed to 'ensure_all_finite' in 1.6 and will be removed in 1.8.\n",
      "  warnings.warn(\n",
      "/opt/anaconda3/envs/sml/lib/python3.9/site-packages/sklearn/base.py:484: FutureWarning: `BaseEstimator._check_n_features` is deprecated in 1.6 and will be removed in 1.7. Use `sklearn.utils.validation._check_n_features` instead.\n",
      "  warnings.warn(\n",
      "/opt/anaconda3/envs/sml/lib/python3.9/site-packages/sklearn/base.py:493: FutureWarning: `BaseEstimator._check_feature_names` is deprecated in 1.6 and will be removed in 1.7. Use `sklearn.utils.validation._check_feature_names` instead.\n",
      "  warnings.warn(\n",
      "/opt/anaconda3/envs/sml/lib/python3.9/site-packages/sklearn/utils/deprecation.py:151: FutureWarning: 'force_all_finite' was renamed to 'ensure_all_finite' in 1.6 and will be removed in 1.8.\n",
      "  warnings.warn(\n",
      "/opt/anaconda3/envs/sml/lib/python3.9/site-packages/sklearn/base.py:484: FutureWarning: `BaseEstimator._check_n_features` is deprecated in 1.6 and will be removed in 1.7. Use `sklearn.utils.validation._check_n_features` instead.\n",
      "  warnings.warn(\n",
      "/opt/anaconda3/envs/sml/lib/python3.9/site-packages/sklearn/base.py:493: FutureWarning: `BaseEstimator._check_feature_names` is deprecated in 1.6 and will be removed in 1.7. Use `sklearn.utils.validation._check_feature_names` instead.\n",
      "  warnings.warn(\n",
      "/opt/anaconda3/envs/sml/lib/python3.9/site-packages/sklearn/utils/deprecation.py:151: FutureWarning: 'force_all_finite' was renamed to 'ensure_all_finite' in 1.6 and will be removed in 1.8.\n",
      "  warnings.warn(\n",
      "/opt/anaconda3/envs/sml/lib/python3.9/site-packages/sklearn/base.py:484: FutureWarning: `BaseEstimator._check_n_features` is deprecated in 1.6 and will be removed in 1.7. Use `sklearn.utils.validation._check_n_features` instead.\n",
      "  warnings.warn(\n",
      "/opt/anaconda3/envs/sml/lib/python3.9/site-packages/sklearn/base.py:493: FutureWarning: `BaseEstimator._check_feature_names` is deprecated in 1.6 and will be removed in 1.7. Use `sklearn.utils.validation._check_feature_names` instead.\n",
      "  warnings.warn(\n",
      "/opt/anaconda3/envs/sml/lib/python3.9/site-packages/sklearn/utils/deprecation.py:151: FutureWarning: 'force_all_finite' was renamed to 'ensure_all_finite' in 1.6 and will be removed in 1.8.\n",
      "  warnings.warn(\n",
      "/opt/anaconda3/envs/sml/lib/python3.9/site-packages/sklearn/base.py:484: FutureWarning: `BaseEstimator._check_n_features` is deprecated in 1.6 and will be removed in 1.7. Use `sklearn.utils.validation._check_n_features` instead.\n",
      "  warnings.warn(\n",
      "/opt/anaconda3/envs/sml/lib/python3.9/site-packages/sklearn/base.py:493: FutureWarning: `BaseEstimator._check_feature_names` is deprecated in 1.6 and will be removed in 1.7. Use `sklearn.utils.validation._check_feature_names` instead.\n",
      "  warnings.warn(\n",
      "/opt/anaconda3/envs/sml/lib/python3.9/site-packages/sklearn/utils/deprecation.py:151: FutureWarning: 'force_all_finite' was renamed to 'ensure_all_finite' in 1.6 and will be removed in 1.8.\n",
      "  warnings.warn(\n",
      "/opt/anaconda3/envs/sml/lib/python3.9/site-packages/sklearn/base.py:484: FutureWarning: `BaseEstimator._check_n_features` is deprecated in 1.6 and will be removed in 1.7. Use `sklearn.utils.validation._check_n_features` instead.\n",
      "  warnings.warn(\n",
      "/opt/anaconda3/envs/sml/lib/python3.9/site-packages/sklearn/base.py:493: FutureWarning: `BaseEstimator._check_feature_names` is deprecated in 1.6 and will be removed in 1.7. Use `sklearn.utils.validation._check_feature_names` instead.\n",
      "  warnings.warn(\n",
      "/opt/anaconda3/envs/sml/lib/python3.9/site-packages/sklearn/utils/deprecation.py:151: FutureWarning: 'force_all_finite' was renamed to 'ensure_all_finite' in 1.6 and will be removed in 1.8.\n",
      "  warnings.warn(\n",
      "/opt/anaconda3/envs/sml/lib/python3.9/site-packages/sklearn/base.py:484: FutureWarning: `BaseEstimator._check_n_features` is deprecated in 1.6 and will be removed in 1.7. Use `sklearn.utils.validation._check_n_features` instead.\n",
      "  warnings.warn(\n",
      "/opt/anaconda3/envs/sml/lib/python3.9/site-packages/sklearn/base.py:493: FutureWarning: `BaseEstimator._check_feature_names` is deprecated in 1.6 and will be removed in 1.7. Use `sklearn.utils.validation._check_feature_names` instead.\n",
      "  warnings.warn(\n",
      "/opt/anaconda3/envs/sml/lib/python3.9/site-packages/sklearn/utils/deprecation.py:151: FutureWarning: 'force_all_finite' was renamed to 'ensure_all_finite' in 1.6 and will be removed in 1.8.\n",
      "  warnings.warn(\n",
      "/opt/anaconda3/envs/sml/lib/python3.9/site-packages/sklearn/base.py:484: FutureWarning: `BaseEstimator._check_n_features` is deprecated in 1.6 and will be removed in 1.7. Use `sklearn.utils.validation._check_n_features` instead.\n",
      "  warnings.warn(\n",
      "/opt/anaconda3/envs/sml/lib/python3.9/site-packages/sklearn/base.py:493: FutureWarning: `BaseEstimator._check_feature_names` is deprecated in 1.6 and will be removed in 1.7. Use `sklearn.utils.validation._check_feature_names` instead.\n",
      "  warnings.warn(\n",
      "/opt/anaconda3/envs/sml/lib/python3.9/site-packages/sklearn/utils/deprecation.py:151: FutureWarning: 'force_all_finite' was renamed to 'ensure_all_finite' in 1.6 and will be removed in 1.8.\n",
      "  warnings.warn(\n",
      "/opt/anaconda3/envs/sml/lib/python3.9/site-packages/sklearn/base.py:484: FutureWarning: `BaseEstimator._check_n_features` is deprecated in 1.6 and will be removed in 1.7. Use `sklearn.utils.validation._check_n_features` instead.\n",
      "  warnings.warn(\n",
      "/opt/anaconda3/envs/sml/lib/python3.9/site-packages/sklearn/base.py:493: FutureWarning: `BaseEstimator._check_feature_names` is deprecated in 1.6 and will be removed in 1.7. Use `sklearn.utils.validation._check_feature_names` instead.\n",
      "  warnings.warn(\n",
      "/opt/anaconda3/envs/sml/lib/python3.9/site-packages/sklearn/utils/deprecation.py:151: FutureWarning: 'force_all_finite' was renamed to 'ensure_all_finite' in 1.6 and will be removed in 1.8.\n",
      "  warnings.warn(\n",
      "/opt/anaconda3/envs/sml/lib/python3.9/site-packages/sklearn/base.py:484: FutureWarning: `BaseEstimator._check_n_features` is deprecated in 1.6 and will be removed in 1.7. Use `sklearn.utils.validation._check_n_features` instead.\n",
      "  warnings.warn(\n",
      "/opt/anaconda3/envs/sml/lib/python3.9/site-packages/sklearn/base.py:493: FutureWarning: `BaseEstimator._check_feature_names` is deprecated in 1.6 and will be removed in 1.7. Use `sklearn.utils.validation._check_feature_names` instead.\n",
      "  warnings.warn(\n",
      "/opt/anaconda3/envs/sml/lib/python3.9/site-packages/sklearn/utils/deprecation.py:151: FutureWarning: 'force_all_finite' was renamed to 'ensure_all_finite' in 1.6 and will be removed in 1.8.\n",
      "  warnings.warn(\n",
      "/opt/anaconda3/envs/sml/lib/python3.9/site-packages/sklearn/base.py:484: FutureWarning: `BaseEstimator._check_n_features` is deprecated in 1.6 and will be removed in 1.7. Use `sklearn.utils.validation._check_n_features` instead.\n",
      "  warnings.warn(\n",
      "/opt/anaconda3/envs/sml/lib/python3.9/site-packages/sklearn/base.py:493: FutureWarning: `BaseEstimator._check_feature_names` is deprecated in 1.6 and will be removed in 1.7. Use `sklearn.utils.validation._check_feature_names` instead.\n",
      "  warnings.warn(\n",
      "/opt/anaconda3/envs/sml/lib/python3.9/site-packages/sklearn/utils/deprecation.py:151: FutureWarning: 'force_all_finite' was renamed to 'ensure_all_finite' in 1.6 and will be removed in 1.8.\n",
      "  warnings.warn(\n",
      "/opt/anaconda3/envs/sml/lib/python3.9/site-packages/sklearn/base.py:484: FutureWarning: `BaseEstimator._check_n_features` is deprecated in 1.6 and will be removed in 1.7. Use `sklearn.utils.validation._check_n_features` instead.\n",
      "  warnings.warn(\n",
      "/opt/anaconda3/envs/sml/lib/python3.9/site-packages/sklearn/base.py:493: FutureWarning: `BaseEstimator._check_feature_names` is deprecated in 1.6 and will be removed in 1.7. Use `sklearn.utils.validation._check_feature_names` instead.\n",
      "  warnings.warn(\n",
      "/opt/anaconda3/envs/sml/lib/python3.9/site-packages/sklearn/utils/deprecation.py:151: FutureWarning: 'force_all_finite' was renamed to 'ensure_all_finite' in 1.6 and will be removed in 1.8.\n",
      "  warnings.warn(\n",
      "/opt/anaconda3/envs/sml/lib/python3.9/site-packages/sklearn/base.py:484: FutureWarning: `BaseEstimator._check_n_features` is deprecated in 1.6 and will be removed in 1.7. Use `sklearn.utils.validation._check_n_features` instead.\n",
      "  warnings.warn(\n",
      "/opt/anaconda3/envs/sml/lib/python3.9/site-packages/sklearn/base.py:493: FutureWarning: `BaseEstimator._check_feature_names` is deprecated in 1.6 and will be removed in 1.7. Use `sklearn.utils.validation._check_feature_names` instead.\n",
      "  warnings.warn(\n",
      "/opt/anaconda3/envs/sml/lib/python3.9/site-packages/sklearn/utils/deprecation.py:151: FutureWarning: 'force_all_finite' was renamed to 'ensure_all_finite' in 1.6 and will be removed in 1.8.\n",
      "  warnings.warn(\n",
      "/opt/anaconda3/envs/sml/lib/python3.9/site-packages/sklearn/base.py:484: FutureWarning: `BaseEstimator._check_n_features` is deprecated in 1.6 and will be removed in 1.7. Use `sklearn.utils.validation._check_n_features` instead.\n",
      "  warnings.warn(\n",
      "/opt/anaconda3/envs/sml/lib/python3.9/site-packages/sklearn/base.py:493: FutureWarning: `BaseEstimator._check_feature_names` is deprecated in 1.6 and will be removed in 1.7. Use `sklearn.utils.validation._check_feature_names` instead.\n",
      "  warnings.warn(\n",
      "/opt/anaconda3/envs/sml/lib/python3.9/site-packages/sklearn/utils/deprecation.py:151: FutureWarning: 'force_all_finite' was renamed to 'ensure_all_finite' in 1.6 and will be removed in 1.8.\n",
      "  warnings.warn(\n",
      "/opt/anaconda3/envs/sml/lib/python3.9/site-packages/sklearn/base.py:484: FutureWarning: `BaseEstimator._check_n_features` is deprecated in 1.6 and will be removed in 1.7. Use `sklearn.utils.validation._check_n_features` instead.\n",
      "  warnings.warn(\n",
      "/opt/anaconda3/envs/sml/lib/python3.9/site-packages/sklearn/base.py:493: FutureWarning: `BaseEstimator._check_feature_names` is deprecated in 1.6 and will be removed in 1.7. Use `sklearn.utils.validation._check_feature_names` instead.\n",
      "  warnings.warn(\n",
      "/opt/anaconda3/envs/sml/lib/python3.9/site-packages/sklearn/utils/deprecation.py:151: FutureWarning: 'force_all_finite' was renamed to 'ensure_all_finite' in 1.6 and will be removed in 1.8.\n",
      "  warnings.warn(\n",
      "/opt/anaconda3/envs/sml/lib/python3.9/site-packages/sklearn/base.py:484: FutureWarning: `BaseEstimator._check_n_features` is deprecated in 1.6 and will be removed in 1.7. Use `sklearn.utils.validation._check_n_features` instead.\n",
      "  warnings.warn(\n",
      "/opt/anaconda3/envs/sml/lib/python3.9/site-packages/sklearn/base.py:493: FutureWarning: `BaseEstimator._check_feature_names` is deprecated in 1.6 and will be removed in 1.7. Use `sklearn.utils.validation._check_feature_names` instead.\n",
      "  warnings.warn(\n"
     ]
    },
    {
     "data": {
      "text/plain": [
       "array([1, 0, 0, ..., 0, 0, 1])"
      ]
     },
     "execution_count": 72,
     "metadata": {},
     "output_type": "execute_result"
    }
   ],
   "source": [
    "## out of fold predictions\n",
    "oof_preds_sim = np.zeros(len(y), dtype=int)\n",
    "oof_probs_sim = np.zeros(len(y))\n",
    "\n",
    "oof_preds = np.zeros(len(y), dtype=int)\n",
    "oof_probs = np.zeros(len(y))\n",
    "\n",
    "test_preds = np.zeros(len(test))\n",
    "\n",
    "# Stratify based on the domain as well\n",
    "combined_target = merge[\"domain\"].astype(str) + '_' + merge[\"label\"].astype(str)\n",
    "\n",
    "FOLDS = 10\n",
    "skf = StratifiedKFold(n_splits=FOLDS, shuffle=True, random_state=42)\n",
    "for train_index, val_index in skf.split(X_train_final, combined_target):\n",
    "    X_train = X_train_final[train_index]\n",
    "    X_val = X_train_final[val_index]\n",
    "\n",
    "    y_train = y.iloc[train_index]\n",
    "    y_val = y.iloc[val_index]\n",
    "\n",
    "    # Oversampling\n",
    "    ros = RandomOverSampler(random_state=42)\n",
    "    X_train_resampled, y_train_resampled = ros.fit_resample(X_train, y_train)\n",
    "\n",
    "    # smote = SMOTE(random_state=42)\n",
    "    # X_train_resampled, y_train_resampled = smote.fit_resample(X_train, y_train)\n",
    "\n",
    "    # Predict with similarity\n",
    "    mean_preds = predict_by_similarity(X_val, X_train_resampled, y_train_resampled)\n",
    "    # mean_preds = predict_by_bm25_simple(X_val, X_train_resampled, y_train_resampled)\n",
    "    binary_preds = (mean_preds > 0.5).astype(int)\n",
    "    oof_preds_sim[val_index] = binary_preds\n",
    "    oof_probs_sim[val_index] += mean_preds\n",
    "\n",
    "    # Model prediction\n",
    "    clf1 = LogisticRegression(max_iter=1000, C=0.1, solver='liblinear', random_state=42)\n",
    "    clf2 = SGDClassifier(max_iter=8000, tol=1e-4, loss=\"modified_huber\", alpha=0.1, penalty='l2')\n",
    "    # clf3 = RandomForestClassifier(n_estimators=200) \n",
    "    eclf = VotingClassifier(estimators=[('lr', clf1), ('sgd', clf2)], voting='soft')\n",
    "\n",
    "    eclf.fit(X_train_resampled, y_train_resampled)\n",
    "\n",
    "    # direct output for valication data, probability for test for mean value later\n",
    "    oof_preds[val_index] = eclf.predict(X_val)\n",
    "    oof_probs[val_index] += eclf.predict_proba(X_val)[:, 1]\n",
    "\n",
    "    # use model for test prediction\n",
    "    test_preds += eclf.predict_proba(X_test_final)[:, 1]\n",
    "\n",
    "    # # Apply TTA for each test sample\n",
    "    # for i, tokens in enumerate(test):\n",
    "    #     # Get predictions with TTA\n",
    "    #     tta_probs = tta(tokens, eclf, token_freq_map, n_augmentations=5)\n",
    "    #     test_preds[i] += tta_probs\n",
    "\n",
    "test_preds /= FOLDS # Average across folds\n",
    "\n",
    "test_labels = (test_preds > 0.5).astype(int)\n",
    "test_labels"
   ]
  },
  {
   "cell_type": "code",
   "execution_count": 73,
   "metadata": {},
   "outputs": [],
   "source": [
    "# ## out of fold predictions\n",
    "# oof_preds_sim = np.zeros(len(y), dtype=int)\n",
    "# oof_probs_sim = np.zeros(len(y))\n",
    "\n",
    "# oof_preds = np.zeros(len(y), dtype=int)\n",
    "# oof_probs = np.zeros(len(y))\n",
    "\n",
    "# test_preds = np.zeros(len(test))\n",
    "\n",
    "# # Stratify based on the domain as well\n",
    "# combined_target = merge[\"domain\"].astype(str) + '_' + merge[\"label\"].astype(str)\n",
    "\n",
    "# FOLDS = 10\n",
    "# skf = StratifiedKFold(n_splits=FOLDS, shuffle=True, random_state=42)\n",
    "# for train_index, val_index in skf.split(X_train_final, combined_target):\n",
    "#     X_train = X_train_final[train_index]\n",
    "#     X_val = X_train_final[val_index]\n",
    "\n",
    "#     y_train = y.iloc[train_index]\n",
    "#     y_val = y.iloc[val_index]\n",
    "\n",
    "#     # 1. Apply dimensionality reduction\n",
    "#     svd = TruncatedSVD(n_components=1000, random_state=42)\n",
    "#     X_train_reduced = svd.fit_transform(X_train)\n",
    "#     X_val_reduced = svd.transform(X_val)\n",
    "    \n",
    "#     # 2. Apply SMOTE on the reduced dimensions\n",
    "#     smote = SMOTE(random_state=42)\n",
    "#     X_train_resampled, y_train_resampled = smote.fit_resample(X_train_reduced, y_train)\n",
    "\n",
    "#     # 3. For similarity prediction, use the reduced+resampled data\n",
    "#     # Need to modify the similarity function to work with dense arrays\n",
    "#     # mean_preds = predict_by_similarity(X_val_reduced, X_train_resampled, y_train_resampled)\n",
    "#     # binary_preds = (mean_preds > 0.5).astype(int)\n",
    "#     # oof_preds_sim[val_index] = binary_preds\n",
    "#     # oof_probs_sim[val_index] += mean_preds\n",
    "\n",
    "#     # 4. Train models on the reduced+resampled data\n",
    "#     clf1 = LogisticRegression(max_iter=1000, C=0.1, solver='liblinear', random_state=42)\n",
    "#     clf2 = SGDClassifier(max_iter=8000, tol=1e-4, loss=\"modified_huber\", alpha=0.1, penalty='l2')\n",
    "#     eclf = VotingClassifier(estimators=[('lr', clf1), ('sgd', clf2)], voting='soft')\n",
    "\n",
    "#     eclf.fit(X_train_resampled, y_train_resampled)\n",
    "\n",
    "#     # 5. Predict on the reduced validation data\n",
    "#     oof_preds[val_index] = eclf.predict(X_val_reduced)\n",
    "#     oof_probs[val_index] += eclf.predict_proba(X_val_reduced)[:, 1]\n",
    "\n",
    "#     # 6. For test predictions, reduce the test data with the same SVD\n",
    "#     X_test_reduced = svd.transform(X_test_final)\n",
    "#     test_preds += eclf.predict_proba(X_test_reduced)[:, 1]\n",
    "\n",
    "# test_preds /= FOLDS\n",
    "\n",
    "# test_labels = (test_preds > 0.5).astype(int)\n",
    "# test_labels"
   ]
  },
  {
   "cell_type": "code",
   "execution_count": 74,
   "metadata": {},
   "outputs": [
    {
     "name": "stdout",
     "output_type": "stream",
     "text": [
      "Overall OOF accuracy with similarity: 0.8922\n"
     ]
    }
   ],
   "source": [
    "acc = accuracy_score(y, oof_preds_sim)\n",
    "print(f\"Overall OOF accuracy with similarity: {acc:.4f}\")"
   ]
  },
  {
   "cell_type": "code",
   "execution_count": 75,
   "metadata": {},
   "outputs": [
    {
     "name": "stdout",
     "output_type": "stream",
     "text": [
      "Overall OOF accuracy: 0.9713\n"
     ]
    }
   ],
   "source": [
    "acc = accuracy_score(y, oof_preds)\n",
    "print(f\"Overall OOF accuracy: {acc:.4f}\")"
   ]
  },
  {
   "cell_type": "code",
   "execution_count": 76,
   "metadata": {},
   "outputs": [
    {
     "name": "stdout",
     "output_type": "stream",
     "text": [
      "Overall OOF accuracy with similarity + model pred: 0.9147\n"
     ]
    }
   ],
   "source": [
    "final_oof = (oof_probs + oof_probs_sim) / 2\n",
    "final_oof = (final_oof > 0.5).astype(int)\n",
    "\n",
    "acc = accuracy_score(y, final_oof)\n",
    "print(f\"Overall OOF accuracy with similarity + model pred: {acc:.4f}\")"
   ]
  },
  {
   "cell_type": "code",
   "execution_count": 77,
   "metadata": {},
   "outputs": [
    {
     "name": "stdout",
     "output_type": "stream",
     "text": [
      "              precision    recall  f1-score   support\n",
      "\n",
      "           0       0.60      0.40      0.48       750\n",
      "           1       0.92      0.96      0.94      5250\n",
      "\n",
      "    accuracy                           0.89      6000\n",
      "   macro avg       0.76      0.68      0.71      6000\n",
      "weighted avg       0.88      0.89      0.88      6000\n",
      "\n"
     ]
    }
   ],
   "source": [
    "print(classification_report(y, oof_preds_sim))"
   ]
  },
  {
   "cell_type": "code",
   "execution_count": 78,
   "metadata": {},
   "outputs": [
    {
     "name": "stdout",
     "output_type": "stream",
     "text": [
      "              precision    recall  f1-score   support\n",
      "\n",
      "           0       0.89      0.87      0.88       750\n",
      "           1       0.98      0.99      0.98      5250\n",
      "\n",
      "    accuracy                           0.97      6000\n",
      "   macro avg       0.94      0.93      0.93      6000\n",
      "weighted avg       0.97      0.97      0.97      6000\n",
      "\n"
     ]
    }
   ],
   "source": [
    "print(classification_report(y, oof_preds))"
   ]
  },
  {
   "cell_type": "code",
   "execution_count": 79,
   "metadata": {},
   "outputs": [
    {
     "name": "stdout",
     "output_type": "stream",
     "text": [
      "              precision    recall  f1-score   support\n",
      "\n",
      "           0       0.75      0.47      0.58       750\n",
      "           1       0.93      0.98      0.95      5250\n",
      "\n",
      "    accuracy                           0.91      6000\n",
      "   macro avg       0.84      0.73      0.77      6000\n",
      "weighted avg       0.91      0.91      0.91      6000\n",
      "\n"
     ]
    }
   ],
   "source": [
    "print(classification_report(y, final_oof))"
   ]
  },
  {
   "cell_type": "code",
   "execution_count": 80,
   "metadata": {},
   "outputs": [],
   "source": [
    "sub = pd.read_csv(\"sample.csv\")\n",
    "sub[\"class\"] = test_labels\n",
    "sub.to_csv(\"submission.csv\", index=False)"
   ]
  },
  {
   "cell_type": "code",
   "execution_count": null,
   "metadata": {},
   "outputs": [],
   "source": []
  },
  {
   "cell_type": "code",
   "execution_count": null,
   "metadata": {},
   "outputs": [],
   "source": []
  },
  {
   "cell_type": "code",
   "execution_count": null,
   "metadata": {},
   "outputs": [],
   "source": []
  },
  {
   "cell_type": "code",
   "execution_count": null,
   "metadata": {},
   "outputs": [],
   "source": []
  },
  {
   "cell_type": "code",
   "execution_count": null,
   "metadata": {},
   "outputs": [],
   "source": []
  },
  {
   "cell_type": "code",
   "execution_count": null,
   "metadata": {},
   "outputs": [],
   "source": []
  },
  {
   "cell_type": "code",
   "execution_count": 81,
   "metadata": {},
   "outputs": [],
   "source": [
    "# ## out of fold predictions\n",
    "# oof_preds = np.zeros(len(y), dtype=int)\n",
    "# test_preds = np.zeros(len(test))\n",
    "\n",
    "# FOLDS = 10\n",
    "# skf = StratifiedKFold(n_splits=FOLDS, shuffle=True, random_state=42)\n",
    "# for train_index, val_index in skf.split(X_bow, y):\n",
    "#     X_train = X_bow[train_index]\n",
    "#     X_val = X_bow[val_index]\n",
    "\n",
    "#     y_train = y.iloc[train_index]\n",
    "#     y_test = y.iloc[val_index]\n",
    "\n",
    "#     # train with LogisticReg\n",
    "#     model = LogisticRegression(\n",
    "#         max_iter=1000,\n",
    "#         C=1.0,\n",
    "#         solver='liblinear'\n",
    "#     )\n",
    "#     model.fit(X_train, y_train)\n",
    "\n",
    "#     # direct output for valication data, probability for test for mean value later\n",
    "#     oof_preds[val_index] = model.predict(X_val)\n",
    "#     test_preds += model.predict_proba(test_bow)[:, 1]\n",
    "\n",
    "# test_preds /= FOLDS"
   ]
  },
  {
   "cell_type": "code",
   "execution_count": 82,
   "metadata": {},
   "outputs": [],
   "source": [
    "# test_labels = (test_preds > 0.5).astype(int)\n",
    "# test_labels"
   ]
  },
  {
   "cell_type": "code",
   "execution_count": 83,
   "metadata": {},
   "outputs": [],
   "source": [
    "# acc = accuracy_score(y, oof_preds)\n",
    "# print(f\"Overall OOF accuracy: {acc:.4f}\")"
   ]
  },
  {
   "cell_type": "markdown",
   "metadata": {},
   "source": [
    "### Merge + BoW + ensemble + OOF"
   ]
  },
  {
   "cell_type": "markdown",
   "metadata": {},
   "source": [
    "### Tuning"
   ]
  },
  {
   "cell_type": "code",
   "execution_count": 84,
   "metadata": {},
   "outputs": [],
   "source": [
    "# from sklearn.model_selection import GridSearchCV, cross_val_score\n",
    "# from sklearn.metrics import accuracy_score, roc_auc_score\n",
    "\n",
    "# # Define parameter grids for each model\n",
    "# lr_param_grid = {\n",
    "#     'C': [0.001, 0.01, 0.1, 1, 10, 100],\n",
    "#     'solver': ['liblinear', 'saga']\n",
    "# }\n",
    "\n",
    "# nb_param_grid = {\n",
    "#     'alpha': [0.001, 0.01, 0.1, 1, 10]\n",
    "# }\n",
    "\n",
    "# sgd_param_grid = {\n",
    "#     'alpha': [0.0001, 0.001, 0.01, 0.1],\n",
    "#     'loss': ['log_loss', 'modified_huber', 'hinge'],\n",
    "#     'penalty': ['l2', 'l1', 'elasticnet']\n",
    "# }\n",
    "\n",
    "# # Create base models\n",
    "# lr = LogisticRegression(max_iter=1000, random_state=42)\n",
    "# nb = MultinomialNB()\n",
    "# sgd = SGDClassifier(max_iter=8000, tol=1e-4, random_state=42)\n",
    "\n",
    "# # Perform grid search for each model\n",
    "# print(\"Tuning Logistic Regression...\")\n",
    "# lr_grid = GridSearchCV(lr, lr_param_grid, cv=5, scoring='roc_auc')\n",
    "# lr_grid.fit(X_bow, y)\n",
    "# print(f\"Best LR params: {lr_grid.best_params_}\")\n",
    "# print(f\"Best LR score: {lr_grid.best_score_:.4f}\")\n",
    "\n",
    "# print(\"\\nTuning MultinomialNB...\")\n",
    "# nb_grid = GridSearchCV(nb, nb_param_grid, cv=5, scoring='roc_auc')\n",
    "# nb_grid.fit(X_bow, y)\n",
    "# print(f\"Best NB params: {nb_grid.best_params_}\")\n",
    "# print(f\"Best NB score: {nb_grid.best_score_:.4f}\")\n",
    "\n",
    "# print(\"\\nTuning SGDClassifier...\")\n",
    "# sgd_grid = GridSearchCV(sgd, sgd_param_grid, cv=5, scoring='roc_auc')\n",
    "# sgd_grid.fit(X_bow, y)\n",
    "# print(f\"Best SGD params: {sgd_grid.best_params_}\")\n",
    "# print(f\"Best SGD score: {sgd_grid.best_score_:.4f}\")\n",
    "\n",
    "\n",
    "# # Now tune the voting classifier weights\n",
    "# # Create base models with best parameters\n",
    "# best_lr = LogisticRegression(**lr_grid.best_params_, max_iter=1000, random_state=42)\n",
    "# best_nb = MultinomialNB(**nb_grid.best_params_)\n",
    "# best_sgd = SGDClassifier(**sgd_grid.best_params_, max_iter=8000, tol=1e-4, random_state=42)\n",
    "\n",
    "# # Define weight combinations to try\n",
    "# weight_combinations = [\n",
    "#     [0.4, 0.3, 0.3],  # Equal-ish weights\n",
    "#     [0.6, 0.2, 0.2],  # More weight to LR\n",
    "#     [0.2, 0.6, 0.2],  # More weight to NB\n",
    "#     [0.2, 0.2, 0.6],  # More weight to SGD\n",
    "#     [0.5, 0.3, 0.2],  # Balanced with LR emphasis\n",
    "#     [0.3, 0.5, 0.2],  # Balanced with NB emphasis\n",
    "#     [0.3, 0.2, 0.5]   # Balanced with SGD emphasis\n",
    "# ]\n",
    "\n",
    "# # Store results for each weight combination\n",
    "# weight_results = []\n",
    "# for weights in weight_combinations:\n",
    "#     eclf = VotingClassifier(\n",
    "#         estimators=[('lr', best_lr), ('mnb', best_nb), ('sgd', best_sgd)],\n",
    "#         weights=weights,\n",
    "#         voting='soft'\n",
    "#     )\n",
    "    \n",
    "#     # Perform cross-validation\n",
    "#     cv_scores = cross_val_score(eclf, X_bow, y, cv=5, scoring='roc_auc')\n",
    "#     mean_score = cv_scores.mean()\n",
    "#     std_score = cv_scores.std()\n",
    "    \n",
    "#     weight_results.append({\n",
    "#         'weights': weights,\n",
    "#         'mean_score': mean_score,\n",
    "#         'std_score': std_score\n",
    "#     })\n",
    "    \n",
    "#     print(f\"\\nWeights: {weights}\")\n",
    "#     print(f\"Mean ROC-AUC: {mean_score:.4f} ± {std_score:.4f}\")\n",
    "\n",
    "# # Find the best weight combination\n",
    "# best_weights = max(weight_results, key=lambda x: x['mean_score'])['weights']\n",
    "# print(f\"\\nBest weight combination: {best_weights}\")"
   ]
  },
  {
   "cell_type": "code",
   "execution_count": 85,
   "metadata": {},
   "outputs": [],
   "source": [
    "# ## out of fold predictions\n",
    "# oof_preds = np.zeros(len(y), dtype=int)\n",
    "# test_preds = np.zeros(len(test))\n",
    "\n",
    "# # Stratify based on the domain as well\n",
    "# combined_target = merge['domain'].astype(str) + '_' + merge['label'].astype(str)\n",
    "\n",
    "# FOLDS = 10\n",
    "# skf = StratifiedKFold(n_splits=FOLDS, shuffle=True, random_state=42)\n",
    "# for train_index, val_index in skf.split(X_bow, combined_target):\n",
    "#     X_train = X_bow[train_index]\n",
    "#     X_val = X_bow[val_index]\n",
    "\n",
    "#     y_train = y.iloc[train_index]\n",
    "#     y_test = y.iloc[val_index]\n",
    "\n",
    "#     clf1 = LogisticRegression(max_iter=1000, C=0.1, solver='liblinear', random_state=42)\n",
    "#     clf2 = MultinomialNB(alpha=1)\n",
    "#     clf3 = SGDClassifier(max_iter=8000, tol=1e-4, loss=\"modified_huber\", alpha=0.1, penalty='l2') \n",
    "\n",
    "#     eclf = VotingClassifier(estimators=[('lr', clf1), ('mnb', clf2), ('sgd', clf3)], voting='soft')\n",
    "\n",
    "#     eclf.fit(X_train, y_train)\n",
    "\n",
    "#     # direct output for valication data, probability for test for mean value later\n",
    "#     oof_preds[val_index] = eclf.predict(X_val)\n",
    "#     test_preds += eclf.predict_proba(test_bow)[:, 1]\n",
    "\n",
    "# test_preds /= FOLDS\n",
    "\n",
    "# test_labels = (test_preds > 0.5).astype(int)\n",
    "# test_labels"
   ]
  },
  {
   "cell_type": "code",
   "execution_count": 86,
   "metadata": {},
   "outputs": [],
   "source": [
    "# acc = accuracy_score(y, oof_preds)\n",
    "# print(f\"Overall OOF accuracy: {acc:.4f}\")"
   ]
  },
  {
   "cell_type": "code",
   "execution_count": 87,
   "metadata": {},
   "outputs": [],
   "source": [
    "# Overall OOF accuracy: 0.9563\n",
    "# Overall OOF accuracy: 0.9648 with xgb"
   ]
  },
  {
   "cell_type": "markdown",
   "metadata": {},
   "source": [
    "## Submission"
   ]
  },
  {
   "cell_type": "code",
   "execution_count": 88,
   "metadata": {},
   "outputs": [],
   "source": [
    "# sub = pd.read_csv(\"sample.csv\")\n",
    "# sub[\"class\"] = test_labels\n",
    "# sub.to_csv(\"submission.csv\", index=False)"
   ]
  }
 ],
 "metadata": {
  "kernelspec": {
   "display_name": "sml",
   "language": "python",
   "name": "python3"
  },
  "language_info": {
   "codemirror_mode": {
    "name": "ipython",
    "version": 3
   },
   "file_extension": ".py",
   "mimetype": "text/x-python",
   "name": "python",
   "nbconvert_exporter": "python",
   "pygments_lexer": "ipython3",
   "version": "3.9.18"
  }
 },
 "nbformat": 4,
 "nbformat_minor": 2
}
